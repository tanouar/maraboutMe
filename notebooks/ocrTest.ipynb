{
 "cells": [
  {
   "cell_type": "code",
   "execution_count": 1,
   "id": "04da1430",
   "metadata": {},
   "outputs": [],
   "source": [
    "from PIL import Image\n",
    "import pytesseract\n",
    "\n",
    "# Install software to complete ocr recognition\n",
    "# https://www.simplifiedpython.net/how-to-extract-text-from-image-in-python/\n",
    "# https://digi.bib.uni-mannheim.de/tesseract/tesseract-ocr-w64-setup-v4.1.0-bibtag19.exe"
   ]
  },
  {
   "cell_type": "code",
   "execution_count": 2,
   "id": "205f9e41",
   "metadata": {},
   "outputs": [
    {
     "name": "stdout",
     "output_type": "stream",
     "text": [
      "C:\\Users\\Home\\Documents\\Git\\maraboutMe\n",
      "C:\\Users\\Home\\Documents\\Git\\maraboutMe\\pics\n"
     ]
    }
   ],
   "source": [
    "# picture path\n",
    "%cd ..\n",
    "%cd pics"
   ]
  },
  {
   "cell_type": "code",
   "execution_count": 3,
   "id": "6ad70bf1",
   "metadata": {},
   "outputs": [],
   "source": [
    "# Include tesseract executable in your path\n",
    "pytesseract.pytesseract.tesseract_cmd = r\"C:\\Program Files\\Tesseract-OCR\\tesseract.exe\"\n",
    " \n",
    "# Create an image object of PIL library\n",
    "image = Image.open('Capture.jpg')\n",
    " \n",
    "# pass image into pytesseract module\n",
    "# pytesseract is trained in many languages\n",
    "image_to_text = pytesseract.image_to_string(image, lang='eng')"
   ]
  },
  {
   "cell_type": "code",
   "execution_count": 4,
   "id": "f984d01d",
   "metadata": {},
   "outputs": [
    {
     "name": "stdout",
     "output_type": "stream",
     "text": [
      "THE CRAZY STEER\n",
      "\n",
      "point, and now insisting on another, but directing all to the same object to gain time while\n",
      "proceeding with the preparation for the invasion, according to the plan already agreed\n",
      "upon.” certainly the most catholic king seemed, in the remarkable letter to have outdone\n",
      "himself; and farese that sincere farnese. in who loyal, truth-telling, chivalrous character,\n",
      "the queen and her counsellors placed such implicit reliance could thenceforward no longer\n",
      "be embarrassed as to the course he was to adopt, to the daily, through, thick, and thin, and\n",
      "with every variety of circumstance and detail which; a genius fertile in fiction could\n",
      "suggest, such was the simple rule prescribed by his sovereign, and the rule was implicitly\n",
      "obeyed, and the english sovereign thoroughly deceived. the secrete confided only, to the\n",
      "faithful breast of alexander was religiously kept. even the pope was outwitted. his holiness\n",
      "proposed to, philip the invasion of england, and offered a million to further the plan. he\n",
      "‘was most desirous to be informed if the project was, resolved upon, and, if so, when it was\n",
      "to be accomplished. the king took the pope’s million, but refused the difficulties in the way.\n",
      "after a time, the pope again tried to pry into the matter, and again offered the million which\n",
      "philip had only accepted for the time when it might be wanted; giving him at the same time,\n",
      "to understand that it was not necessary at that time, because there were then great\n",
      "impediments. “thus he is pledged to give me the subsidy, and i am not pledged for the\n",
      "time.” said philip, “and i keep my, which is the most important of all.” yet after all, farnese\n",
      "did not see his way clear towards the consummation of the plan. his army had woefally\n",
      "dwindled, and before he could seriously set about ulterior matters, it would be necessary\n",
      "to take the city of sluys. this was to prove as already seen a most arduous enterprise. he\n",
      "complain to philip of his inadequate supplies both in men and money. the project conceived\n",
      "in the royal breast was worth spending millions for, he said.\n",
      "\n",
      " \n",
      "\f",
      "\n"
     ]
    }
   ],
   "source": [
    "# Print the text\n",
    "print(image_to_text)"
   ]
  }
 ],
 "metadata": {
  "kernelspec": {
   "display_name": "Python 3 (ipykernel)",
   "language": "python",
   "name": "python3"
  },
  "language_info": {
   "codemirror_mode": {
    "name": "ipython",
    "version": 3
   },
   "file_extension": ".py",
   "mimetype": "text/x-python",
   "name": "python",
   "nbconvert_exporter": "python",
   "pygments_lexer": "ipython3",
   "version": "3.7.11"
  }
 },
 "nbformat": 4,
 "nbformat_minor": 5
}
